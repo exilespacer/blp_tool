{
 "cells": [
  {
   "cell_type": "markdown",
   "metadata": {},
   "source": [
    "# How to use blp_tool.py ?\n",
    "* you need to specified the \"codes\" and \"fields\" at least.\n",
    "* you will get a generator of data whose type are dictionary."
   ]
  },
  {
   "cell_type": "markdown",
   "metadata": {},
   "source": [
    "#1. BDP(codes, fields, overrideFieldValueDict)\n",
    "\n",
    "###input\n",
    "* codes: should be a list of Bloomberg tickers, default: ['2330 TT Equity']\n",
    "* fields: should be a list of Bloomberg fields, default: ['PX_LAST']\n",
    "* overrideFieldValueDict: sould be a dictionary of overrides setting, default: {}\n",
    "\n",
    "### output\n",
    "*  A generator of dictionary data response\n",
    "\n",
    "\n"
   ]
  },
  {
   "cell_type": "code",
   "execution_count": 1,
   "metadata": {
    "collapsed": true
   },
   "outputs": [],
   "source": [
    "from blp_tool import bdp"
   ]
  },
  {
   "cell_type": "markdown",
   "metadata": {},
   "source": [
    "The default usage would get the latest price of TWSC (2330)."
   ]
  },
  {
   "cell_type": "code",
   "execution_count": 4,
   "metadata": {
    "collapsed": false
   },
   "outputs": [
    {
     "name": "stdout",
     "output_type": "stream",
     "text": [
      "{'code': '2330 TT Equity', 'PX_LAST': 154.0}\n"
     ]
    }
   ],
   "source": [
    "for data in bdp():\n",
    "    print data"
   ]
  },
  {
   "cell_type": "markdown",
   "metadata": {},
   "source": [
    "You can specify multiple tickers and multiply fields, and get the response data by iterating the generator."
   ]
  },
  {
   "cell_type": "code",
   "execution_count": 14,
   "metadata": {
    "collapsed": false
   },
   "outputs": [
    {
     "name": "stdout",
     "output_type": "stream",
     "text": [
      "{'VOLUME': 37794575.0, 'code': '2330 TT Equity', 'PX_LAST': 154.0}\n",
      "{'VOLUME': 8726382.0, 'code': '2412 TT Equity', 'PX_LAST': 99.1}\n"
     ]
    }
   ],
   "source": [
    "for data in bdp(codes=['2330 TT Equity', '2412 TT Equity'], fields=['PX_LAST', 'VOLUME']):\n",
    "    print data"
   ]
  },
  {
   "cell_type": "markdown",
   "metadata": {},
   "source": [
    " Or, you can implicitly iterate a generator by calling \"list\""
   ]
  },
  {
   "cell_type": "code",
   "execution_count": 15,
   "metadata": {
    "collapsed": false
   },
   "outputs": [
    {
     "data": {
      "text/plain": [
       "[{'PX_LAST': 154.0, 'VOLUME': 37794575.0, 'code': '2330 TT Equity'},\n",
       " {'PX_LAST': 99.1, 'VOLUME': 8726382.0, 'code': '2412 TT Equity'}]"
      ]
     },
     "execution_count": 15,
     "metadata": {},
     "output_type": "execute_result"
    }
   ],
   "source": [
    "dataGenerator = bdp(codes=['2330 TT Equity', '2412 TT Equity'], fields=['PX_LAST', 'VOLUME'])\n",
    "list(dataGenerator)"
   ]
  },
  {
   "cell_type": "markdown",
   "metadata": {},
   "source": [
    "#2. BDH(codes, fields, startdate, enddate, periodicity)\n",
    "###input\n",
    "* codes: should be a list of Bloomberg tickers, default: ['2330 TT Equity']\n",
    "* fields: should be a list of Bloomberg fields, default: ['PX_LAST']\n",
    "* startdate: sould be a datetime string like 'yyyy-mm-dd' or 'yyyymmdd', default: '2005-01-01'\n",
    "* enddate: sould be a datetime string like 'yyyy-mm-dd' or 'yyyymmdd', default: '2005-01-05'\n",
    "* periodicity: sould be a string that specifies the frequency of the data, default: 'DAILY'\n",
    "\n",
    "### output\n",
    "* generator of dictionary data response"
   ]
  },
  {
   "cell_type": "code",
   "execution_count": 8,
   "metadata": {
    "collapsed": true
   },
   "outputs": [],
   "source": [
    "from blp_tool import bdh"
   ]
  },
  {
   "cell_type": "markdown",
   "metadata": {},
   "source": [
    "The default usage would get the latest price of TWSC (2330) from 2005-01-01 to 2005-01-05."
   ]
  },
  {
   "cell_type": "code",
   "execution_count": 9,
   "metadata": {
    "collapsed": false
   },
   "outputs": [
    {
     "name": "stdout",
     "output_type": "stream",
     "text": [
      "{'date': datetime.date(2005, 1, 3), 'code': '2330 TT Equity', 'PX_LAST': 51.0}\n",
      "{'date': datetime.date(2005, 1, 4), 'code': '2330 TT Equity', 'PX_LAST': 49.6}\n",
      "{'date': datetime.date(2005, 1, 5), 'code': '2330 TT Equity', 'PX_LAST': 48.5}\n"
     ]
    }
   ],
   "source": [
    "for data in bdh():\n",
    "    print data"
   ]
  },
  {
   "cell_type": "markdown",
   "metadata": {},
   "source": [
    "You can specify multiple tickers and multiply fields, and get the response data by iterating the generator."
   ]
  },
  {
   "cell_type": "code",
   "execution_count": 16,
   "metadata": {
    "collapsed": false
   },
   "outputs": [
    {
     "name": "stdout",
     "output_type": "stream",
     "text": [
      "{'date': datetime.date(2014, 1, 2), 'VOLUME': 15133724.0, 'code': '2330 TT Equity', 'PX_LAST': 104.5}\n",
      "{'date': datetime.date(2014, 1, 3), 'VOLUME': 41160529.0, 'code': '2330 TT Equity', 'PX_LAST': 102.5}\n",
      "{'date': datetime.date(2014, 1, 2), 'VOLUME': 3994894.0, 'code': '2412 TT Equity', 'PX_LAST': 92.8}\n",
      "{'date': datetime.date(2014, 1, 3), 'VOLUME': 5145200.0, 'code': '2412 TT Equity', 'PX_LAST': 92.8}\n"
     ]
    }
   ],
   "source": [
    "for data in bdh(codes=['2330 TT Equity', '2412 TT Equity'], fields=['PX_LAST', 'VOLUME'], startdate='2014-01-01', enddate='2014-01-05'):\n",
    "    print data"
   ]
  },
  {
   "cell_type": "markdown",
   "metadata": {},
   "source": [
    " Or, you can implicitly iterate a generator by calling \"list\""
   ]
  },
  {
   "cell_type": "code",
   "execution_count": 17,
   "metadata": {
    "collapsed": false
   },
   "outputs": [
    {
     "data": {
      "text/plain": [
       "[{'PX_LAST': 104.5,\n",
       "  'VOLUME': 15133724.0,\n",
       "  'code': '2330 TT Equity',\n",
       "  'date': datetime.date(2014, 1, 2)},\n",
       " {'PX_LAST': 102.5,\n",
       "  'VOLUME': 41160529.0,\n",
       "  'code': '2330 TT Equity',\n",
       "  'date': datetime.date(2014, 1, 3)},\n",
       " {'PX_LAST': 92.8,\n",
       "  'VOLUME': 3994894.0,\n",
       "  'code': '2412 TT Equity',\n",
       "  'date': datetime.date(2014, 1, 2)},\n",
       " {'PX_LAST': 92.8,\n",
       "  'VOLUME': 5145200.0,\n",
       "  'code': '2412 TT Equity',\n",
       "  'date': datetime.date(2014, 1, 3)}]"
      ]
     },
     "execution_count": 17,
     "metadata": {},
     "output_type": "execute_result"
    }
   ],
   "source": [
    "dataGenerator = bdh(codes=['2330 TT Equity', '2412 TT Equity'], fields=['PX_LAST', 'VOLUME'], startdate='2014-01-01', enddate='2014-01-05')\n",
    "list(dataGenerator)"
   ]
  }
 ],
 "metadata": {
  "kernelspec": {
   "display_name": "Python 2",
   "language": "python",
   "name": "python2"
  },
  "language_info": {
   "codemirror_mode": {
    "name": "ipython",
    "version": 2
   },
   "file_extension": ".py",
   "mimetype": "text/x-python",
   "name": "python",
   "nbconvert_exporter": "python",
   "pygments_lexer": "ipython2",
   "version": "2.7.6"
  }
 },
 "nbformat": 4,
 "nbformat_minor": 0
}
